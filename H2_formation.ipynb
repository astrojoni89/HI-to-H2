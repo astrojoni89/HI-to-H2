{
 "cells": [
  {
   "cell_type": "markdown",
   "metadata": {},
   "source": [
    "$\\rm HI$-to-$\\rm H_2$ transition"
   ]
  },
  {
   "cell_type": "markdown",
   "metadata": {},
   "source": [
    "Estimate far UV radiation field:<br>\n",
    "from theory (Wolfire et al. 2003) or from observations (Planck dust temperature)"
   ]
  },
  {
   "cell_type": "markdown",
   "metadata": {},
   "source": [
    "Midplane FUV intensity (relative to sun)<br>\n",
    "from Wolfire et al. 2003:"
   ]
  },
  {
   "cell_type": "code",
   "execution_count": 50,
   "metadata": {},
   "outputs": [],
   "source": [
    "import numpy as np\n",
    "def J_FUV_rel(R,R0,H_R) :\n",
    "    return np.exp(-(R-R0)/H_R)"
   ]
  },
  {
   "cell_type": "code",
   "execution_count": 51,
   "metadata": {},
   "outputs": [],
   "source": [
    "J_FUV = J_FUV_rel(12,8.5,4.1) #Wolfire et al. 2003"
   ]
  },
  {
   "cell_type": "code",
   "execution_count": 52,
   "metadata": {},
   "outputs": [
    {
     "data": {
      "text/plain": [
       "0.42585407574880685"
      ]
     },
     "execution_count": 52,
     "metadata": {},
     "output_type": "execute_result"
    }
   ],
   "source": [
    "J_FUV"
   ]
  },
  {
   "cell_type": "markdown",
   "metadata": {},
   "source": [
    "Probably more of an upper limit, since Maggie is off the plane"
   ]
  },
  {
   "cell_type": "code",
   "execution_count": 53,
   "metadata": {},
   "outputs": [],
   "source": [
    "########"
   ]
  },
  {
   "cell_type": "markdown",
   "metadata": {},
   "source": [
    "Estimate metallicity (relative to sun)<br>\n",
    "from Wolfire et al. 2003 (theory) and Giannetti et al. 2017 (obs.):"
   ]
  },
  {
   "cell_type": "code",
   "execution_count": 54,
   "metadata": {},
   "outputs": [],
   "source": [
    "#from Wolfire 2003 table 2:\n",
    "Z_w = 0.668 #for 11kpc Gal. distance\n",
    "\n",
    "#from Giannetti 2017 Eq.2:\n",
    "def gas_to_dust(R) :\n",
    "    return 10**(0.087 * R + 1.44)"
   ]
  },
  {
   "cell_type": "code",
   "execution_count": 55,
   "metadata": {},
   "outputs": [],
   "source": [
    "gtd = gas_to_dust(12)"
   ]
  },
  {
   "cell_type": "code",
   "execution_count": 56,
   "metadata": {},
   "outputs": [
    {
     "data": {
      "text/plain": [
       "304.7894989627983"
      ]
     },
     "execution_count": 56,
     "metadata": {},
     "output_type": "execute_result"
    }
   ],
   "source": [
    "gtd"
   ]
  },
  {
   "cell_type": "code",
   "execution_count": 57,
   "metadata": {},
   "outputs": [],
   "source": [
    "#gas to dust ratio at sun's distance:\n",
    "gtd_sun = 136"
   ]
  },
  {
   "cell_type": "code",
   "execution_count": 58,
   "metadata": {},
   "outputs": [],
   "source": [
    "#relative gas to dust\n",
    "gtd_rel = gtd/gtd_sun"
   ]
  },
  {
   "cell_type": "code",
   "execution_count": 59,
   "metadata": {},
   "outputs": [
    {
     "name": "stdout",
     "output_type": "stream",
     "text": [
      "0.4462095986338419\n"
     ]
    }
   ],
   "source": [
    "#metallicity as inverse of gas to dust:\n",
    "Z = 1/gtd_rel\n",
    "print(Z)"
   ]
  },
  {
   "cell_type": "markdown",
   "metadata": {},
   "source": [
    "Let's go with Giannetti (since at 12kpc and probably lower off the plane)"
   ]
  },
  {
   "cell_type": "markdown",
   "metadata": {},
   "source": [
    "**Expected transition and $\\alpha G$ parameter**"
   ]
  },
  {
   "cell_type": "code",
   "execution_count": 60,
   "metadata": {},
   "outputs": [],
   "source": [
    "def transition(alpha_G) : #with sigma_g_rel approx. 1\n",
    "    return 6.71 * np.log((alpha_G/3.2)+1)\n",
    "\n",
    "def alpha_G(J_FUV, n) : #with sigma_g_rel approx. 1\n",
    "    return 2.0 * J_FUV * (30/n) * (9.9/1+8.9)**0.37"
   ]
  },
  {
   "cell_type": "code",
   "execution_count": 61,
   "metadata": {},
   "outputs": [],
   "source": [
    "n = np.arange(0.5,30,0.5)\n",
    "aG = alpha_G(J_FUV, n)"
   ]
  },
  {
   "cell_type": "code",
   "execution_count": 62,
   "metadata": {},
   "outputs": [
    {
     "data": {
      "text/plain": [
       "array([151.31446909,  75.65723455,  50.43815636,  37.82861727,\n",
       "        30.26289382,  25.21907818,  21.61635273,  18.91430864,\n",
       "        16.81271879,  15.13144691,  13.75586083,  12.60953909,\n",
       "        11.63957455,  10.80817636,  10.08763127,   9.45715432,\n",
       "         8.90085112,   8.40635939,   7.96391943,   7.56572345,\n",
       "         7.20545091,   6.87793041,   6.57888996,   6.30476955,\n",
       "         6.05257876,   5.81978727,   5.6042396 ,   5.40408818,\n",
       "         5.21774031,   5.04381564,   4.88111191,   4.72857716,\n",
       "         4.58528694,   4.45042556,   4.32327055,   4.2031797 ,\n",
       "         4.08958025,   3.98195971,   3.87985818,   3.78286173,\n",
       "         3.69059681,   3.60272545,   3.51894114,   3.43896521,\n",
       "         3.36254376,   3.28944498,   3.21945679,   3.15238477,\n",
       "         3.08805039,   3.02628938,   2.96695037,   2.90989364,\n",
       "         2.85498998,   2.8021198 ,   2.75117217,   2.70204409,\n",
       "         2.65463981,   2.60887016,   2.56465202])"
      ]
     },
     "execution_count": 62,
     "metadata": {},
     "output_type": "execute_result"
    }
   ],
   "source": [
    "aG"
   ]
  },
  {
   "cell_type": "code",
   "execution_count": 63,
   "metadata": {},
   "outputs": [],
   "source": [
    "Sigma_HI = transition(aG)"
   ]
  },
  {
   "cell_type": "code",
   "execution_count": 64,
   "metadata": {},
   "outputs": [
    {
     "data": {
      "text/plain": [
       "array([26.01558882, 21.50211616, 18.91622728, 17.11800846, 15.75029153,\n",
       "       14.65403527, 13.74444199, 12.9709268 , 12.30088742, 11.71208482,\n",
       "       11.18867496, 10.71897464, 10.29412475,  9.90725042,  9.55291168,\n",
       "        9.22673181,  8.92513862,  8.64517985,  8.3843885 ,  8.14068287,\n",
       "        7.91229099,  7.69769265,  7.49557437,  7.30479399,  7.12435249,\n",
       "        6.9533713 ,  6.79107403,  6.63677142,  6.489849  ,  6.34975681,\n",
       "        6.21600084,  6.08813589,  5.96575936,  5.84850622,  5.73604448,\n",
       "        5.62807146,  5.52431049,  5.42450811,  5.32843158,  5.23586676,\n",
       "        5.14661624,  5.06049764,  4.97734222,  4.89699356,  4.81930643,\n",
       "        4.74414579,  4.67138586,  4.60090936,  4.53260674,  4.46637556,\n",
       "        4.40211992,  4.3397499 ,  4.27918114,  4.22033433,  4.16313491,\n",
       "        4.10751266,  4.0534014 ,  4.00073871,  3.94946561])"
      ]
     },
     "execution_count": 64,
     "metadata": {},
     "output_type": "execute_result"
    }
   ],
   "source": [
    "Sigma_HI"
   ]
  },
  {
   "cell_type": "code",
   "execution_count": 65,
   "metadata": {},
   "outputs": [],
   "source": [
    "#rough estimate of the volume density (homogeneously over whole filament width)\n",
    "n1 = 3.5\n",
    "n2 = 8.3"
   ]
  },
  {
   "cell_type": "code",
   "execution_count": 71,
   "metadata": {},
   "outputs": [],
   "source": [
    "aG1 = alpha_G(J_FUV, n1)\n",
    "aG2 = alpha_G(J_FUV, n2)\n",
    "\n",
    "HI1 = transition(aG1)\n",
    "HI2 = transition(aG2)"
   ]
  },
  {
   "cell_type": "code",
   "execution_count": 79,
   "metadata": {},
   "outputs": [
    {
     "data": {
      "text/plain": [
       "<matplotlib.collections.PolyCollection at 0x7fc78f368210>"
      ]
     },
     "execution_count": 79,
     "metadata": {},
     "output_type": "execute_result"
    },
    {
     "data": {
      "image/png": "[encoded data removed]",
      "text/plain": [
       "<Figure size 432x288 with 1 Axes>"
      ]
     },
     "metadata": {
      "needs_background": "light"
     },
     "output_type": "display_data"
    }
   ],
   "source": [
    "import matplotlib.pyplot as plt\n",
    "plt.plot(aG,Sigma_HI)\n",
    "plt.xscale('log')\n",
    "plt.yscale('log')\n",
    "plt.xlabel(r'$\\alpha G$', size=16)\n",
    "plt.ylabel(r'$\\Sigma_{\\rm HI}$', size=16)\n",
    "plt.grid(which='both')\n",
    "axes = plt.gca()\n",
    "xlims = axes.get_xlim()\n",
    "ylims = axes.get_ylim()\n",
    "\n",
    "\n",
    "plt.vlines(aG1,ylims[0],ylims[1])\n",
    "plt.vlines(aG2,ylims[0],ylims[1])\n",
    "plt.hlines(HI1,xlims[0],xlims[1])\n",
    "plt.hlines(HI2,xlims[0],xlims[1])\n",
    "\n",
    "yticks = np.arange(5,30,5)\n",
    "plt.yticks(yticks)\n",
    "plt.ylim(ylims[0],ylims[1])\n",
    "plt.xlim(aG.min(),aG.max())\n",
    "\n",
    "plt.fill_between(aG,HI1,HI2,color='yellow', alpha=0.6)"
   ]
  },
  {
   "cell_type": "code",
   "execution_count": null,
   "metadata": {},
   "outputs": [],
   "source": []
  }
 ],
 "metadata": {
  "kernelspec": {
   "display_name": "Python 3",
   "language": "python",
   "name": "python3"
  },
  "language_info": {
   "codemirror_mode": {
    "name": "ipython",
    "version": 3
   },
   "file_extension": ".py",
   "mimetype": "text/x-python",
   "name": "python",
   "nbconvert_exporter": "python",
   "pygments_lexer": "ipython3",
   "version": "3.7.6"
  }
 },
 "nbformat": 4,
 "nbformat_minor": 4
}
